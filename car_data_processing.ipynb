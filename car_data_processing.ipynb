{
  "nbformat": 4,
  "nbformat_minor": 0,
  "metadata": {
    "colab": {
      "provenance": []
    },
    "kernelspec": {
      "name": "python3",
      "display_name": "Python 3"
    },
    "language_info": {
      "name": "python"
    }
  },
  "cells": [
    {
      "cell_type": "code",
      "execution_count": null,
      "metadata": {
        "id": "3GHzfjkaZagR"
      },
      "outputs": [],
      "source": [
        "from google.colab import drive\n",
        "drive.mount('/content/drive')\n",
        "\n",
        "import pandas as pd\n",
        "\n",
        "# Шляхи до файлів на Google Drive\n",
        "file_paths = [\n",
        "    \"/content/drive/My Drive/tz_opendata_z01012024_po01012025.csv\",\n",
        "    \"/content/drive/My Drive/tz_opendata_z01012023_po01012024.csv\",\n",
        "    \"/content/drive/My Drive/tz_opendata_z01012022_po01012023.csv\"\n",
        "]\n",
        "\n",
        "# Список колонок для виправлення формату чисел\n",
        "columns_to_fix = [\"CAPACITY\", \"OWN_WEIGHT\", \"TOTAL_WEIGHT\"]\n",
        "\n",
        "# Порожній список для зберігання датафреймів\n",
        "dataframes = []\n",
        "\n",
        "for path in file_paths:\n",
        "    # Читаємо CSV (якщо виникне помилка кодування — можна змінити на 'cp1251' чи інше)\n",
        "    df = pd.read_csv(path, encoding='utf-8', delimiter=';')\n",
        "\n",
        "    # Заповнюємо пусті клітинки 0\n",
        "    df.fillna(0, inplace=True)\n",
        "\n",
        "    # Замінюємо кому на крапку в числових колонках\n",
        "    for col in columns_to_fix:\n",
        "        if col in df.columns:\n",
        "            df[col] = df[col].astype(str).str.replace(',', '.').astype(float)\n",
        "\n",
        "    # Додаємо до списку\n",
        "    dataframes.append(df)\n",
        "\n",
        "# Об'єднуємо всі датафрейми в один\n",
        "combined_df = pd.concat(dataframes, ignore_index=True)\n",
        "\n",
        "# Зберігаємо оброблений об'єднаний файл\n",
        "processed_file_path = \"/content/drive/My Drive/combined_processed_data.csv\"\n",
        "combined_df.to_csv(processed_file_path, index=False, encoding='utf-8')\n",
        "\n",
        "print(f\"✅ Усі файли оброблено та об'єднано! Збережено в: {processed_file_path}\")"
      ]
    }
  ]
}